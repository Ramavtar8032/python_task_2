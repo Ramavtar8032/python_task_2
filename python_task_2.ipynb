{
 "cells": [
  {
   "cell_type": "code",
   "execution_count": 7,
   "id": "18cee222-b20f-4754-ac09-6adcfb961ac2",
   "metadata": {},
   "outputs": [
    {
     "data": {
      "text/plain": [
       "True"
      ]
     },
     "execution_count": 7,
     "metadata": {},
     "output_type": "execute_result"
    }
   ],
   "source": [
    "# Q1:-Ans\n",
    "import re\n",
    "\n",
    "\n",
    "def password_check(password):\n",
    "    return_value = True\n",
    "\n",
    "    if len(password) < 10:\n",
    "        # print('Password length is less than 10 characters')\n",
    "        return_value = False\n",
    "\n",
    "    punctuation_not_allowed = '[\\s+*+=\\^`|~]'\n",
    "    if re.search(punctuation_not_allowed, password):\n",
    "        # print(f'Whitespaces or punctuations \"*+=\\^`|~\" is not allowed')\n",
    "        return_value = False\n",
    "\n",
    "    if not any(char.isupper() for char in password) or \\\n",
    "            not any(char.islower() for char in password) or \\\n",
    "            not any(char.isdigit() for char in password):\n",
    "        # print('Password requires at least one upper case letter, one lower case letter and one digit')\n",
    "        return_value = False\n",
    "\n",
    "    if not re.search(r\"\"\"[!@#$%&()\\-_\\[\\]{};':\",./<>?]\"\"\", password):\n",
    "        # print(\"\"\"At least special char in \"[!@#$%&()-_[]{};':\",./<>?]\" is required\"\"\")\n",
    "        return_value = False\n",
    "\n",
    "    return return_value\n",
    "password_check(\"Ram@803219\")"
   ]
  },
  {
   "cell_type": "code",
   "execution_count": 10,
   "id": "9587260f-49de-487c-87f1-da50882cffc1",
   "metadata": {},
   "outputs": [
    {
     "data": {
      "text/plain": [
       "True"
      ]
     },
     "execution_count": 10,
     "metadata": {},
     "output_type": "execute_result"
    }
   ],
   "source": [
    "#Q2:Check if the string starts with a particular letterY\n",
    "\n",
    "start_num=lambda string : True if string[0].isnumeric() else False\n",
    "start_num(\"123pwskills\")"
   ]
  },
  {
   "cell_type": "code",
   "execution_count": 12,
   "id": "fd75032a-0bb0-4c4b-b77a-9c8dca9612c8",
   "metadata": {},
   "outputs": [
    {
     "data": {
      "text/plain": [
       "True"
      ]
     },
     "execution_count": 12,
     "metadata": {},
     "output_type": "execute_result"
    }
   ],
   "source": [
    "# Check if the string is numericY\n",
    "checked_str=lambda string :True if string.isnumeric() else False\n",
    "checked_str(\"123456\")"
   ]
  },
  {
   "cell_type": "code",
   "execution_count": 16,
   "id": "b4490911-96f8-4e91-9655-8904c405083b",
   "metadata": {},
   "outputs": [
    {
     "data": {
      "text/plain": [
       "[('grapes', 1000), ('mango', 99), ('orange', 80)]"
      ]
     },
     "execution_count": 16,
     "metadata": {},
     "output_type": "execute_result"
    }
   ],
   "source": [
    "#Sort a list of tuples having fruit names and their quantity. [(\"mango\",99),(\"orange\",80), (\"grapes\", 1000)]\n",
    "checked_list=lambda list : list.sort()\n",
    "list=[(\"mango\",99),(\"orange\",80), (\"grapes\", 1000)]\n",
    "checked_list(list)\n",
    "list\n"
   ]
  },
  {
   "cell_type": "code",
   "execution_count": 20,
   "id": "046b12f2-8515-46b0-a507-289980b0e1a4",
   "metadata": {},
   "outputs": [],
   "source": [
    "#Find the squares of numbers from 1 to 10Y\n",
    "list=range(1,11)\n",
    "list=map(lambda i : i**2 ,list)"
   ]
  },
  {
   "cell_type": "code",
   "execution_count": 21,
   "id": "f81f5f25-ff38-4f02-917a-247ed44f3bc3",
   "metadata": {},
   "outputs": [
    {
     "name": "stdout",
     "output_type": "stream",
     "text": [
      "1\n",
      "4\n",
      "9\n",
      "16\n",
      "25\n",
      "36\n",
      "49\n",
      "64\n",
      "81\n",
      "100\n"
     ]
    }
   ],
   "source": [
    "for i in list:\n",
    "    print(i)"
   ]
  },
  {
   "cell_type": "code",
   "execution_count": 23,
   "id": "cd448a4d-3577-4535-9347-be6a2ec018b6",
   "metadata": {},
   "outputs": [
    {
     "name": "stdout",
     "output_type": "stream",
     "text": [
      "1\n",
      "8\n",
      "27\n",
      "64\n",
      "125\n",
      "216\n",
      "343\n",
      "512\n",
      "729\n",
      "1000\n"
     ]
    }
   ],
   "source": [
    " # Find the cube root of numbers from 1 to 10Y\n",
    "list=range(1,11)\n",
    "list=map(lambda i : i**3 ,list)\n",
    "for i in list:\n",
    "    print(i)"
   ]
  },
  {
   "cell_type": "code",
   "execution_count": 27,
   "id": "5a156289-08f8-49a0-afe3-5601e6a30097",
   "metadata": {},
   "outputs": [
    {
     "data": {
      "text/plain": [
       "True"
      ]
     },
     "execution_count": 27,
     "metadata": {},
     "output_type": "execute_result"
    }
   ],
   "source": [
    "#Check if a given number is evenY\n",
    "isEven=lambda num : True if num % 2 == 0 else False\n",
    "isEven(4)"
   ]
  },
  {
   "cell_type": "code",
   "execution_count": 37,
   "id": "295ff6ed-5252-4ead-9c86-49c6f5c2b0bf",
   "metadata": {},
   "outputs": [
    {
     "name": "stdout",
     "output_type": "stream",
     "text": [
      "1\n",
      "3\n",
      "5\n",
      "7\n",
      "9\n"
     ]
    }
   ],
   "source": [
    "#Filter odd numbers from the given list.[1,2,3,4,5,6,7,8,9,10]\n",
    "[1,2,3,4,5,6,7,8,9,10-\n",
    "list=[1,2,3,4,5,6,7,8,9,10]\n",
    "result=filter(lambda num :  num % 2 != 0 ,list)\n",
    "for i in result:\n",
    "    print(i)"
   ]
  },
  {
   "cell_type": "code",
   "execution_count": 1,
   "id": "5c624fe8-8aa4-4f74-9943-a4b5b4a27d4e",
   "metadata": {},
   "outputs": [
    {
     "data": {
      "text/plain": [
       "[-5, -4, -3, -2, -1, 0, 1, 2, 3, 4, 5, 6]"
      ]
     },
     "execution_count": 1,
     "metadata": {},
     "output_type": "execute_result"
    }
   ],
   "source": [
    "#Sort a list of integers into positive and negative integers lists.\n",
    "list=[1,2,3,4,5,6,-1,-2,-3,-4,-5,0]\n",
    "sort=lambda x : x.sort()\n",
    "sort(list)\n",
    "list"
   ]
  },
  {
   "cell_type": "code",
   "execution_count": null,
   "id": "25f654f5-c9ab-4fc2-9be6-59f432d6f80c",
   "metadata": {},
   "outputs": [],
   "source": []
  }
 ],
 "metadata": {
  "kernelspec": {
   "display_name": "Python 3 (ipykernel)",
   "language": "python",
   "name": "python3"
  },
  "language_info": {
   "codemirror_mode": {
    "name": "ipython",
    "version": 3
   },
   "file_extension": ".py",
   "mimetype": "text/x-python",
   "name": "python",
   "nbconvert_exporter": "python",
   "pygments_lexer": "ipython3",
   "version": "3.10.8"
  }
 },
 "nbformat": 4,
 "nbformat_minor": 5
}
